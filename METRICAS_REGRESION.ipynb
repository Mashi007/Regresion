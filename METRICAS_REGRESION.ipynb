{
  "nbformat": 4,
  "nbformat_minor": 0,
  "metadata": {
    "colab": {
      "provenance": [],
      "toc_visible": true
    },
    "kernelspec": {
      "name": "python3",
      "display_name": "Python 3"
    },
    "language_info": {
      "name": "python"
    }
  },
  "cells": [
    {
      "cell_type": "markdown",
      "source": [
        "---\n",
        "# **1. Instalación de bibliotecas**\n",
        "\n",
        "---"
      ],
      "metadata": {
        "id": "2LEpK-tL-cc1"
      }
    },
    {
      "cell_type": "code",
      "execution_count": null,
      "metadata": {
        "id": "wEqCAYfi-aO7"
      },
      "outputs": [],
      "source": [
        "!pip install fuzzywuzzy\n",
        "!pip install mplcursors\n",
        "!pip install pandas plotly\n",
        "!pip install selenium\n",
        "!pip install python-docx\n",
        "!pip install python-Levenshtein\n",
        "!pip install plotly\n"
      ]
    },
    {
      "cell_type": "markdown",
      "source": [
        "---\n",
        "# **2. Importación de librerias**\n",
        "\n",
        "---"
      ],
      "metadata": {
        "id": "-4w5DRnH-0Su"
      }
    },
    {
      "cell_type": "code",
      "source": [
        "# Importar bibliotecas\n",
        "\n",
        "import matplotlib.pyplot as plt\n",
        "import pandas as pd\n",
        "import numpy as np\n",
        "import plotly.express as px\n",
        "import plotly.graph_objects as go\n",
        "import plotly.offline as pyo\n",
        "import seaborn as sns\n",
        "import statsmodels.formula.api as smf\n",
        "\n",
        "# Importar Sub - Bibliotecas\n",
        "\n",
        "from tabulate import tabulate\n",
        "from scipy.stats import rankdata\n",
        "from IPython.display import display,HTML\n",
        "from sklearn.preprocessing import OneHotEncoder\n",
        "from sklearn.model_selection import train_test_split\n",
        "from sklearn.pipeline import Pipeline\n",
        "from sklearn.impute import SimpleImputer\n",
        "from sklearn.preprocessing import StandardScaler\n",
        "from sklearn.compose import ColumnTransformer\n",
        "from sklearn.preprocessing import StandardScaler, OneHotEncoder\n",
        "from sklearn.linear_model import LinearRegression\n",
        "from sklearn.metrics import mean_absolute_error\n",
        "from sklearn.metrics import mean_squared_error"
      ],
      "metadata": {
        "id": "AHHndNyG-z9F"
      },
      "execution_count": 2,
      "outputs": []
    },
    {
      "cell_type": "markdown",
      "source": [
        "---\n",
        "# **3. Marco de datos**\n",
        "\n",
        "---"
      ],
      "metadata": {
        "id": "tO1zly0D_CpO"
      }
    },
    {
      "cell_type": "code",
      "source": [
        "# Importar el archivo CSV\n",
        "df = pd.read_csv(\"/content/BOSTON.csv\")\n",
        "\n",
        "# Imprime las primeras filas del DataFrame\n",
        "df.head()\n"
      ],
      "metadata": {
        "colab": {
          "base_uri": "https://localhost:8080/",
          "height": 206
        },
        "id": "XnLMwzhR_FtS",
        "outputId": "57525c38-392d-42ab-f2dd-e31e00eebc7b"
      },
      "execution_count": 4,
      "outputs": [
        {
          "output_type": "execute_result",
          "data": {
            "text/plain": [
              "      CRIM    NOX     RM   AGE  PTRATIO  LSTAT  PRICE\n",
              "0  0.00632  0.538  6.575  65.2     15.3   4.98   24.0\n",
              "1  0.02731  0.469  6.421  78.9     17.8   9.14   21.6\n",
              "2  0.02729  0.469  7.185  61.1     17.8   4.03   34.7\n",
              "3  0.03237  0.458  6.998  45.8     18.7   2.94   33.4\n",
              "4  0.06905  0.458  7.147  54.2     18.7   5.33   36.2"
            ],
            "text/html": [
              "\n",
              "  <div id=\"df-ea42c118-5d73-42d1-9f18-901bcfe4a8fb\">\n",
              "    <div class=\"colab-df-container\">\n",
              "      <div>\n",
              "<style scoped>\n",
              "    .dataframe tbody tr th:only-of-type {\n",
              "        vertical-align: middle;\n",
              "    }\n",
              "\n",
              "    .dataframe tbody tr th {\n",
              "        vertical-align: top;\n",
              "    }\n",
              "\n",
              "    .dataframe thead th {\n",
              "        text-align: right;\n",
              "    }\n",
              "</style>\n",
              "<table border=\"1\" class=\"dataframe\">\n",
              "  <thead>\n",
              "    <tr style=\"text-align: right;\">\n",
              "      <th></th>\n",
              "      <th>CRIM</th>\n",
              "      <th>NOX</th>\n",
              "      <th>RM</th>\n",
              "      <th>AGE</th>\n",
              "      <th>PTRATIO</th>\n",
              "      <th>LSTAT</th>\n",
              "      <th>PRICE</th>\n",
              "    </tr>\n",
              "  </thead>\n",
              "  <tbody>\n",
              "    <tr>\n",
              "      <th>0</th>\n",
              "      <td>0.00632</td>\n",
              "      <td>0.538</td>\n",
              "      <td>6.575</td>\n",
              "      <td>65.2</td>\n",
              "      <td>15.3</td>\n",
              "      <td>4.98</td>\n",
              "      <td>24.0</td>\n",
              "    </tr>\n",
              "    <tr>\n",
              "      <th>1</th>\n",
              "      <td>0.02731</td>\n",
              "      <td>0.469</td>\n",
              "      <td>6.421</td>\n",
              "      <td>78.9</td>\n",
              "      <td>17.8</td>\n",
              "      <td>9.14</td>\n",
              "      <td>21.6</td>\n",
              "    </tr>\n",
              "    <tr>\n",
              "      <th>2</th>\n",
              "      <td>0.02729</td>\n",
              "      <td>0.469</td>\n",
              "      <td>7.185</td>\n",
              "      <td>61.1</td>\n",
              "      <td>17.8</td>\n",
              "      <td>4.03</td>\n",
              "      <td>34.7</td>\n",
              "    </tr>\n",
              "    <tr>\n",
              "      <th>3</th>\n",
              "      <td>0.03237</td>\n",
              "      <td>0.458</td>\n",
              "      <td>6.998</td>\n",
              "      <td>45.8</td>\n",
              "      <td>18.7</td>\n",
              "      <td>2.94</td>\n",
              "      <td>33.4</td>\n",
              "    </tr>\n",
              "    <tr>\n",
              "      <th>4</th>\n",
              "      <td>0.06905</td>\n",
              "      <td>0.458</td>\n",
              "      <td>7.147</td>\n",
              "      <td>54.2</td>\n",
              "      <td>18.7</td>\n",
              "      <td>5.33</td>\n",
              "      <td>36.2</td>\n",
              "    </tr>\n",
              "  </tbody>\n",
              "</table>\n",
              "</div>\n",
              "      <button class=\"colab-df-convert\" onclick=\"convertToInteractive('df-ea42c118-5d73-42d1-9f18-901bcfe4a8fb')\"\n",
              "              title=\"Convert this dataframe to an interactive table.\"\n",
              "              style=\"display:none;\">\n",
              "        \n",
              "  <svg xmlns=\"http://www.w3.org/2000/svg\" height=\"24px\"viewBox=\"0 0 24 24\"\n",
              "       width=\"24px\">\n",
              "    <path d=\"M0 0h24v24H0V0z\" fill=\"none\"/>\n",
              "    <path d=\"M18.56 5.44l.94 2.06.94-2.06 2.06-.94-2.06-.94-.94-2.06-.94 2.06-2.06.94zm-11 1L8.5 8.5l.94-2.06 2.06-.94-2.06-.94L8.5 2.5l-.94 2.06-2.06.94zm10 10l.94 2.06.94-2.06 2.06-.94-2.06-.94-.94-2.06-.94 2.06-2.06.94z\"/><path d=\"M17.41 7.96l-1.37-1.37c-.4-.4-.92-.59-1.43-.59-.52 0-1.04.2-1.43.59L10.3 9.45l-7.72 7.72c-.78.78-.78 2.05 0 2.83L4 21.41c.39.39.9.59 1.41.59.51 0 1.02-.2 1.41-.59l7.78-7.78 2.81-2.81c.8-.78.8-2.07 0-2.86zM5.41 20L4 18.59l7.72-7.72 1.47 1.35L5.41 20z\"/>\n",
              "  </svg>\n",
              "      </button>\n",
              "      \n",
              "  <style>\n",
              "    .colab-df-container {\n",
              "      display:flex;\n",
              "      flex-wrap:wrap;\n",
              "      gap: 12px;\n",
              "    }\n",
              "\n",
              "    .colab-df-convert {\n",
              "      background-color: #E8F0FE;\n",
              "      border: none;\n",
              "      border-radius: 50%;\n",
              "      cursor: pointer;\n",
              "      display: none;\n",
              "      fill: #1967D2;\n",
              "      height: 32px;\n",
              "      padding: 0 0 0 0;\n",
              "      width: 32px;\n",
              "    }\n",
              "\n",
              "    .colab-df-convert:hover {\n",
              "      background-color: #E2EBFA;\n",
              "      box-shadow: 0px 1px 2px rgba(60, 64, 67, 0.3), 0px 1px 3px 1px rgba(60, 64, 67, 0.15);\n",
              "      fill: #174EA6;\n",
              "    }\n",
              "\n",
              "    [theme=dark] .colab-df-convert {\n",
              "      background-color: #3B4455;\n",
              "      fill: #D2E3FC;\n",
              "    }\n",
              "\n",
              "    [theme=dark] .colab-df-convert:hover {\n",
              "      background-color: #434B5C;\n",
              "      box-shadow: 0px 1px 3px 1px rgba(0, 0, 0, 0.15);\n",
              "      filter: drop-shadow(0px 1px 2px rgba(0, 0, 0, 0.3));\n",
              "      fill: #FFFFFF;\n",
              "    }\n",
              "  </style>\n",
              "\n",
              "      <script>\n",
              "        const buttonEl =\n",
              "          document.querySelector('#df-ea42c118-5d73-42d1-9f18-901bcfe4a8fb button.colab-df-convert');\n",
              "        buttonEl.style.display =\n",
              "          google.colab.kernel.accessAllowed ? 'block' : 'none';\n",
              "\n",
              "        async function convertToInteractive(key) {\n",
              "          const element = document.querySelector('#df-ea42c118-5d73-42d1-9f18-901bcfe4a8fb');\n",
              "          const dataTable =\n",
              "            await google.colab.kernel.invokeFunction('convertToInteractive',\n",
              "                                                     [key], {});\n",
              "          if (!dataTable) return;\n",
              "\n",
              "          const docLinkHtml = 'Like what you see? Visit the ' +\n",
              "            '<a target=\"_blank\" href=https://colab.research.google.com/notebooks/data_table.ipynb>data table notebook</a>'\n",
              "            + ' to learn more about interactive tables.';\n",
              "          element.innerHTML = '';\n",
              "          dataTable['output_type'] = 'display_data';\n",
              "          await google.colab.output.renderOutput(dataTable, element);\n",
              "          const docLink = document.createElement('div');\n",
              "          docLink.innerHTML = docLinkHtml;\n",
              "          element.appendChild(docLink);\n",
              "        }\n",
              "      </script>\n",
              "    </div>\n",
              "  </div>\n",
              "  "
            ]
          },
          "metadata": {},
          "execution_count": 4
        }
      ]
    },
    {
      "cell_type": "markdown",
      "source": [
        "---\n",
        "# **4. Análisis exploratorio**\n",
        "\n",
        "---"
      ],
      "metadata": {
        "id": "AI6QM7HT_d1q"
      }
    },
    {
      "cell_type": "markdown",
      "source": [
        "### 4.1  Estructura de la Matriz"
      ],
      "metadata": {
        "id": "jPccxkfA_rQj"
      }
    },
    {
      "cell_type": "code",
      "source": [
        "df.shape\n",
        "print(\"\\033[43m\\033[30m\\033[1mRespuesta:\\033[0m\")\n",
        "print(\"El DataFrame tiene\", df.shape[0], \"filas y\", df.shape[1], \"columnas.\")\n"
      ],
      "metadata": {
        "colab": {
          "base_uri": "https://localhost:8080/"
        },
        "id": "3iPCEcmv_dUm",
        "outputId": "2b8c1466-c9d8-40ab-b41b-5763c15e641c"
      },
      "execution_count": 5,
      "outputs": [
        {
          "output_type": "stream",
          "name": "stdout",
          "text": [
            "\u001b[43m\u001b[30m\u001b[1mRespuesta:\u001b[0m\n",
            "El DataFrame tiene 506 filas y 7 columnas.\n"
          ]
        }
      ]
    },
    {
      "cell_type": "markdown",
      "source": [
        "### 4.2  Identificación Dtype por variable"
      ],
      "metadata": {
        "id": "kfJpRDTD_kqW"
      }
    },
    {
      "cell_type": "code",
      "source": [
        "print(\"\\033[43m\\033[30m\\033[1mRespuesta:\\033[0m\")\n",
        "df.info()"
      ],
      "metadata": {
        "colab": {
          "base_uri": "https://localhost:8080/"
        },
        "id": "8T-_hZIZ_sXY",
        "outputId": "704bb54a-0f21-42c7-884c-e295b65eb2b8"
      },
      "execution_count": 6,
      "outputs": [
        {
          "output_type": "stream",
          "name": "stdout",
          "text": [
            "\u001b[43m\u001b[30m\u001b[1mRespuesta:\u001b[0m\n",
            "<class 'pandas.core.frame.DataFrame'>\n",
            "RangeIndex: 506 entries, 0 to 505\n",
            "Data columns (total 7 columns):\n",
            " #   Column   Non-Null Count  Dtype  \n",
            "---  ------   --------------  -----  \n",
            " 0   CRIM     506 non-null    float64\n",
            " 1   NOX      506 non-null    float64\n",
            " 2   RM       506 non-null    float64\n",
            " 3   AGE      506 non-null    float64\n",
            " 4   PTRATIO  506 non-null    float64\n",
            " 5   LSTAT    506 non-null    float64\n",
            " 6   PRICE    506 non-null    float64\n",
            "dtypes: float64(7)\n",
            "memory usage: 27.8 KB\n"
          ]
        }
      ]
    },
    {
      "cell_type": "code",
      "source": [
        "# Seleccionar columnas categóricas\n",
        "cat_cols = df.select_dtypes(include=['object']).columns.tolist()\n",
        "\n",
        "# Seleccionar columnas numéricas\n",
        "num_cols = df.select_dtypes(include=['float', 'int']).columns.tolist()\n",
        "\n",
        "#Imprimir\n",
        "print(\"\\033[43m\\033[30m\\033[1mRespuesta:\\033[0m\")\n",
        "\n",
        "# Imprimir las columnas seleccionadas\n",
        "print(\"Columnas categóricas:\", cat_cols)\n",
        "print(\"Columnas numéricas:\", num_cols)"
      ],
      "metadata": {
        "colab": {
          "base_uri": "https://localhost:8080/"
        },
        "id": "-zOiRQEdAGPl",
        "outputId": "47a7e48b-8e6c-4d1b-ec44-f0ddbf27a493"
      },
      "execution_count": 7,
      "outputs": [
        {
          "output_type": "stream",
          "name": "stdout",
          "text": [
            "\u001b[43m\u001b[30m\u001b[1mRespuesta:\u001b[0m\n",
            "Columnas categóricas: []\n",
            "Columnas numéricas: ['CRIM', 'NOX', 'RM', 'AGE', 'PTRATIO', 'LSTAT', 'PRICE']\n"
          ]
        }
      ]
    },
    {
      "cell_type": "markdown",
      "source": [
        "### 4.3  Análisis de dispersión"
      ],
      "metadata": {
        "id": "mtfZp1WuAPEj"
      }
    },
    {
      "cell_type": "code",
      "source": [
        "# Crear una función para describir características numéricas con histogramas\n",
        "def desc_num_feature(df, num_cols):\n",
        "    fig, ax = plt.subplots()\n",
        "    fig.set_size_inches(8, 6)\n",
        "    df[num_cols].hist(bins=20, alpha=0.5, ax=ax)\n",
        "    ax.set_xlabel(num_cols)\n",
        "    ax.set_ylabel(\"Frecuencia\")\n",
        "    ax.set_title(f\"Distribución de '{num_cols}'\")\n",
        "    plt.subplots_adjust(hspace=0.5, wspace=0.5)\n",
        "    plt.show()\n",
        "\n",
        "# Iterar a través de la lista de nombres de características numéricas y llamar a la función desc_num_feature para cada una\n",
        "num_cols = ['CRIM', 'NOX', 'RM', 'AGE', 'PTRATIO', 'LSTAT', 'PRICE']\n",
        "for num_cols in num_cols:\n",
        "    desc_num_feature(df, num_cols)"
      ],
      "metadata": {
        "colab": {
          "base_uri": "https://localhost:8080/",
          "height": 1000
        },
        "id": "o7uvCxTeAZkV",
        "outputId": "d005fbfe-42c0-4f3d-bf80-cdfd91aee6b8"
      },
      "execution_count": 8,
      "outputs": [
        {
          "output_type": "display_data",
          "data": {
            "text/plain": [
              "<Figure size 576x432 with 1 Axes>"
            ],
            "image/png": "[encoded data removed]"
          },
          "metadata": {
            "needs_background": "light"
          }
        },
        {
          "output_type": "display_data",
          "data": {
            "text/plain": [
              "<Figure size 576x432 with 1 Axes>"
            ],
            "image/png": "[encoded data removed]"
          },
          "metadata": {
            "needs_background": "light"
          }
        },
        {
          "output_type": "display_data",
          "data": {
            "text/plain": [
              "<Figure size 576x432 with 1 Axes>"
            ],
            "image/png": "[encoded data removed]"
          },
          "metadata": {
            "needs_background": "light"
          }
        },
        {
          "output_type": "display_data",
          "data": {
            "text/plain": [
              "<Figure size 576x432 with 1 Axes>"
            ],
            "image/png": "[encoded data removed]"
          },
          "metadata": {
            "needs_background": "light"
          }
        },
        {
          "output_type": "display_data",
          "data": {
            "text/plain": [
              "<Figure size 576x432 with 1 Axes>"
            ],
            "image/png": "[encoded data removed]"
          },
          "metadata": {
            "needs_background": "light"
          }
        },
        {
          "output_type": "display_data",
          "data": {
            "text/plain": [
              "<Figure size 576x432 with 1 Axes>"
            ],
            "image/png": "[encoded data removed]"
          },
          "metadata": {
            "needs_background": "light"
          }
        },
        {
          "output_type": "display_data",
          "data": {
            "text/plain": [
              "<Figure size 576x432 with 1 Axes>"
            ],
            "image/png": "[encoded data removed]"
          },
          "metadata": {
            "needs_background": "light"
          }
        }
      ]
    },
    {
      "cell_type": "code",
      "source": [
        "moda = df[\"PRICE\"].mode()[0]\n",
        "print(\"La moda de la columna PRICE es:\", moda)\n"
      ],
      "metadata": {
        "colab": {
          "base_uri": "https://localhost:8080/"
        },
        "id": "z04ZGtakPskj",
        "outputId": "af85b049-92fe-4b52-cbbb-d18e2b1d0d3e"
      },
      "execution_count": null,
      "outputs": [
        {
          "output_type": "stream",
          "name": "stdout",
          "text": [
            "La moda de la columna PRICE es: 50.0\n"
          ]
        }
      ]
    },
    {
      "cell_type": "code",
      "source": [
        "moda = df['PTRATIO'].mode()[0]\n",
        "print(\"La moda de la columna PTRATIO es:\", moda)"
      ],
      "metadata": {
        "id": "oaZv3A0OP4D6",
        "outputId": "f3fea1fb-c2dd-4af9-c529-695c228890df",
        "colab": {
          "base_uri": "https://localhost:8080/"
        }
      },
      "execution_count": null,
      "outputs": [
        {
          "output_type": "stream",
          "name": "stdout",
          "text": [
            "La moda de la columna PTRATIO es: 20.2\n"
          ]
        }
      ]
    },
    {
      "cell_type": "markdown",
      "source": [
        "### 4.4  Análisis de correlación"
      ],
      "metadata": {
        "id": "28DfeAFzEvwy"
      }
    },
    {
      "cell_type": "code",
      "source": [
        "plt.figure(figsize=(20, 7))\n",
        "heatmap = sns.heatmap(df.corr(), cmap=\"viridis\", annot=True)\n",
        "heatmap.set_title(\"Matriz de Correlación\", fontdict={\"fontsize\": 25}, pad=12)\n",
        "plt.show()"
      ],
      "metadata": {
        "colab": {
          "base_uri": "https://localhost:8080/",
          "height": 420
        },
        "id": "H2ei6K-TD_0h",
        "outputId": "2707b7f0-7ab5-4ad8-8ee6-e601b7941f2f"
      },
      "execution_count": null,
      "outputs": [
        {
          "output_type": "display_data",
          "data": {
            "text/plain": [
              "<Figure size 1440x504 with 2 Axes>"
            ],
            "image/png": "[encoded data removed]"
          },
          "metadata": {
            "needs_background": "light"
          }
        }
      ]
    },
    {
      "cell_type": "markdown",
      "source": [
        "---\n",
        "# **5. Entrenamiento de modelos y cálculo de ECM**\n",
        "\n",
        "---"
      ],
      "metadata": {
        "id": "422wKemcLG3O"
      }
    },
    {
      "cell_type": "markdown",
      "source": [
        "#### Escenario 1: PRICE vs RM"
      ],
      "metadata": {
        "id": "VBG-4sOZ6KGZ"
      }
    },
    {
      "cell_type": "code",
      "source": [
        "E1 = smf.ols(formula=\"PRICE~RM\" , data=df).fit()\n",
        "print(\"\\033[43m\\033[30m\\033[1mRespuesta:\\033[0m\")\n",
        "print(E1.summary())"
      ],
      "metadata": {
        "colab": {
          "base_uri": "https://localhost:8080/"
        },
        "id": "xU5CUQmB1a5x",
        "outputId": "84af31c3-018c-49ee-ebc5-14fd7905f550"
      },
      "execution_count": 21,
      "outputs": [
        {
          "output_type": "stream",
          "name": "stdout",
          "text": [
            "\u001b[43m\u001b[30m\u001b[1mRespuesta:\u001b[0m\n",
            "                            OLS Regression Results                            \n",
            "==============================================================================\n",
            "Dep. Variable:                  PRICE   R-squared:                       0.484\n",
            "Model:                            OLS   Adj. R-squared:                  0.483\n",
            "Method:                 Least Squares   F-statistic:                     471.8\n",
            "Date:                Tue, 21 Mar 2023   Prob (F-statistic):           2.49e-74\n",
            "Time:                        22:09:02   Log-Likelihood:                -1673.1\n",
            "No. Observations:                 506   AIC:                             3350.\n",
            "Df Residuals:                     504   BIC:                             3359.\n",
            "Df Model:                           1                                         \n",
            "Covariance Type:            nonrobust                                         \n",
            "==============================================================================\n",
            "                 coef    std err          t      P>|t|      [0.025      0.975]\n",
            "------------------------------------------------------------------------------\n",
            "Intercept    -34.6706      2.650    -13.084      0.000     -39.877     -29.465\n",
            "RM             9.1021      0.419     21.722      0.000       8.279       9.925\n",
            "==============================================================================\n",
            "Omnibus:                      102.585   Durbin-Watson:                   0.684\n",
            "Prob(Omnibus):                  0.000   Jarque-Bera (JB):              612.449\n",
            "Skew:                           0.726   Prob(JB):                    1.02e-133\n",
            "Kurtosis:                       8.190   Cond. No.                         58.4\n",
            "==============================================================================\n",
            "\n",
            "Notes:\n",
            "[1] Standard Errors assume that the covariance matrix of the errors is correctly specified.\n"
          ]
        }
      ]
    },
    {
      "cell_type": "code",
      "source": [
        "price_pred = E1.predict(pd.DataFrame(df[\"RM\"]))\n",
        "df[\"RSE\"] = (df[\"PRICE\"] - price_pred)**2\n",
        "SSD = sum(df[\"RSE\"])\n",
        "RSE = np.sqrt(SSD / (len(df) - 1 - 1))\n",
        "print(\"\\033[43m\\033[30m\\033[1mECM:\\033[0m\")\n",
        "round(RSE, 2)"
      ],
      "metadata": {
        "colab": {
          "base_uri": "https://localhost:8080/"
        },
        "id": "is7xuLLu4fIf",
        "outputId": "9fb95979-e607-4606-f369-3d4d0f21e9b2"
      },
      "execution_count": 22,
      "outputs": [
        {
          "output_type": "stream",
          "name": "stdout",
          "text": [
            "\u001b[43m\u001b[30m\u001b[1mECM:\u001b[0m\n"
          ]
        },
        {
          "output_type": "execute_result",
          "data": {
            "text/plain": [
              "6.62"
            ]
          },
          "metadata": {},
          "execution_count": 22
        }
      ]
    },
    {
      "cell_type": "markdown",
      "source": [
        "#### Escenario 2: PRICE vs RM + LSTAT"
      ],
      "metadata": {
        "id": "A0LzDbrc6mx_"
      }
    },
    {
      "cell_type": "code",
      "source": [
        "E2 = smf.ols(formula=\"PRICE~RM+LSTAT\" , data=df).fit()\n",
        "print(\"\\033[43m\\033[30m\\033[1mRespuesta:\\033[0m\")\n",
        "print(E2.summary())"
      ],
      "metadata": {
        "colab": {
          "base_uri": "https://localhost:8080/"
        },
        "id": "XPggvU1a6xt_",
        "outputId": "3ad88d47-f8c8-49e5-c15c-5d77d30b3c25"
      },
      "execution_count": 34,
      "outputs": [
        {
          "output_type": "stream",
          "name": "stdout",
          "text": [
            "\u001b[43m\u001b[30m\u001b[1mRespuesta:\u001b[0m\n",
            "                            OLS Regression Results                            \n",
            "==============================================================================\n",
            "Dep. Variable:                  PRICE   R-squared:                       0.639\n",
            "Model:                            OLS   Adj. R-squared:                  0.637\n",
            "Method:                 Least Squares   F-statistic:                     444.3\n",
            "Date:                Tue, 21 Mar 2023   Prob (F-statistic):          7.01e-112\n",
            "Time:                        22:12:14   Log-Likelihood:                -1582.8\n",
            "No. Observations:                 506   AIC:                             3172.\n",
            "Df Residuals:                     503   BIC:                             3184.\n",
            "Df Model:                           2                                         \n",
            "Covariance Type:            nonrobust                                         \n",
            "==============================================================================\n",
            "                 coef    std err          t      P>|t|      [0.025      0.975]\n",
            "------------------------------------------------------------------------------\n",
            "Intercept     -1.3583      3.173     -0.428      0.669      -7.592       4.875\n",
            "RM             5.0948      0.444     11.463      0.000       4.222       5.968\n",
            "LSTAT         -0.6424      0.044    -14.689      0.000      -0.728      -0.556\n",
            "==============================================================================\n",
            "Omnibus:                      145.712   Durbin-Watson:                   0.834\n",
            "Prob(Omnibus):                  0.000   Jarque-Bera (JB):              457.690\n",
            "Skew:                           1.343   Prob(JB):                    4.11e-100\n",
            "Kurtosis:                       6.807   Cond. No.                         202.\n",
            "==============================================================================\n",
            "\n",
            "Notes:\n",
            "[1] Standard Errors assume that the covariance matrix of the errors is correctly specified.\n"
          ]
        }
      ]
    },
    {
      "cell_type": "code",
      "source": [
        "price_pred2 = E2.predict(pd.DataFrame(df[[\"RM\", \"LSTAT\"]]))\n",
        "df[\"RSE2\"] = (df[\"PRICE\"] - price_pred2)**2\n",
        "SSD2 = sum(df[\"RSE2\"])\n",
        "RSE2 = np.sqrt(SSD2 / (len(df) - 3))\n",
        "print(\"\\033[43m\\033[30m\\033[1mECM:\\033[0m\")\n",
        "round(RSE2, 2)\n"
      ],
      "metadata": {
        "colab": {
          "base_uri": "https://localhost:8080/"
        },
        "id": "4iMhVKFq7LEt",
        "outputId": "b61d8d93-0e39-4247-a925-fb65bdd7f5c5"
      },
      "execution_count": 26,
      "outputs": [
        {
          "output_type": "stream",
          "name": "stdout",
          "text": [
            "\u001b[43m\u001b[30m\u001b[1mECM:\u001b[0m\n"
          ]
        },
        {
          "output_type": "execute_result",
          "data": {
            "text/plain": [
              "5.54"
            ]
          },
          "metadata": {},
          "execution_count": 26
        }
      ]
    },
    {
      "cell_type": "markdown",
      "source": [
        "#### Escenario 3: PRICE vs RM+LSTAT+CRIM"
      ],
      "metadata": {
        "id": "X5XTCooOF02x"
      }
    },
    {
      "cell_type": "code",
      "source": [
        "E3 = smf.ols(formula=\"PRICE~RM+LSTAT+CRIM\" , data=df).fit()\n",
        "print(\"\\033[43m\\033[30m\\033[1mRespuesta:\\033[0m\")\n",
        "print(E3.summary())"
      ],
      "metadata": {
        "colab": {
          "base_uri": "https://localhost:8080/"
        },
        "id": "ApaH5YxE-5P0",
        "outputId": "44245a06-ca4f-43f6-fcc9-a7c30495801b"
      },
      "execution_count": 35,
      "outputs": [
        {
          "output_type": "stream",
          "name": "stdout",
          "text": [
            "\u001b[43m\u001b[30m\u001b[1mRespuesta:\u001b[0m\n",
            "                            OLS Regression Results                            \n",
            "==============================================================================\n",
            "Dep. Variable:                  PRICE   R-squared:                       0.646\n",
            "Model:                            OLS   Adj. R-squared:                  0.644\n",
            "Method:                 Least Squares   F-statistic:                     305.2\n",
            "Date:                Tue, 21 Mar 2023   Prob (F-statistic):          1.01e-112\n",
            "Time:                        22:12:19   Log-Likelihood:                -1577.6\n",
            "No. Observations:                 506   AIC:                             3163.\n",
            "Df Residuals:                     502   BIC:                             3180.\n",
            "Df Model:                           3                                         \n",
            "Covariance Type:            nonrobust                                         \n",
            "==============================================================================\n",
            "                 coef    std err          t      P>|t|      [0.025      0.975]\n",
            "------------------------------------------------------------------------------\n",
            "Intercept     -2.5623      3.166     -0.809      0.419      -8.783       3.658\n",
            "RM             5.2170      0.442     11.802      0.000       4.348       6.085\n",
            "LSTAT         -0.5785      0.048    -12.135      0.000      -0.672      -0.485\n",
            "CRIM          -0.1029      0.032     -3.215      0.001      -0.166      -0.040\n",
            "==============================================================================\n",
            "Omnibus:                      171.754   Durbin-Watson:                   0.822\n",
            "Prob(Omnibus):                  0.000   Jarque-Bera (JB):              628.308\n",
            "Skew:                           1.535   Prob(JB):                    3.67e-137\n",
            "Kurtosis:                       7.514   Cond. No.                         216.\n",
            "==============================================================================\n",
            "\n",
            "Notes:\n",
            "[1] Standard Errors assume that the covariance matrix of the errors is correctly specified.\n"
          ]
        }
      ]
    },
    {
      "cell_type": "code",
      "source": [
        "price_pred3 = E3.predict(pd.DataFrame(df[[\"RM\", \"LSTAT\", \"CRIM\"]]))\n",
        "df[\"RSE3\"] = (df[\"PRICE\"] - price_pred3)**2\n",
        "SSD3 = sum(df[\"RSE3\"])\n",
        "RSE3 = np.sqrt(SSD3 / (len(df) - 3 - 1))\n",
        "print(\"\\033[43m\\033[30m\\033[1mECM:\\033[0m\")\n",
        "round(RSE3, 2)"
      ],
      "metadata": {
        "colab": {
          "base_uri": "https://localhost:8080/"
        },
        "id": "gRufx22YGDqv",
        "outputId": "91efa6c3-c81a-4cfe-c000-3de1e0b278cf"
      },
      "execution_count": 28,
      "outputs": [
        {
          "output_type": "stream",
          "name": "stdout",
          "text": [
            "\u001b[43m\u001b[30m\u001b[1mECM:\u001b[0m\n"
          ]
        },
        {
          "output_type": "execute_result",
          "data": {
            "text/plain": [
              "5.49"
            ]
          },
          "metadata": {},
          "execution_count": 28
        }
      ]
    },
    {
      "cell_type": "markdown",
      "source": [
        "#### Escenario 4: PRICE vs RM+LSTAT+PTRATIO"
      ],
      "metadata": {
        "id": "br0j5BgxHpQL"
      }
    },
    {
      "cell_type": "code",
      "source": [
        "E4 = smf.ols(formula=\"PRICE~RM+LSTAT+PTRATIO\" , data=df).fit()\n",
        "print(\"\\033[43m\\033[30m\\033[1mRespuesta:\\033[0m\")\n",
        "print(E4.summary())"
      ],
      "metadata": {
        "colab": {
          "base_uri": "https://localhost:8080/"
        },
        "id": "vckEqBsbHdrb",
        "outputId": "4e630e6f-ec46-4902-b979-5171cc00cb51"
      },
      "execution_count": 36,
      "outputs": [
        {
          "output_type": "stream",
          "name": "stdout",
          "text": [
            "\u001b[43m\u001b[30m\u001b[1mRespuesta:\u001b[0m\n",
            "                            OLS Regression Results                            \n",
            "==============================================================================\n",
            "Dep. Variable:                  PRICE   R-squared:                       0.679\n",
            "Model:                            OLS   Adj. R-squared:                  0.677\n",
            "Method:                 Least Squares   F-statistic:                     353.3\n",
            "Date:                Tue, 21 Mar 2023   Prob (F-statistic):          2.69e-123\n",
            "Time:                        22:12:24   Log-Likelihood:                -1553.0\n",
            "No. Observations:                 506   AIC:                             3114.\n",
            "Df Residuals:                     502   BIC:                             3131.\n",
            "Df Model:                           3                                         \n",
            "Covariance Type:            nonrobust                                         \n",
            "==============================================================================\n",
            "                 coef    std err          t      P>|t|      [0.025      0.975]\n",
            "------------------------------------------------------------------------------\n",
            "Intercept     18.5671      3.913      4.745      0.000      10.879      26.255\n",
            "RM             4.5154      0.426     10.603      0.000       3.679       5.352\n",
            "LSTAT         -0.5718      0.042    -13.540      0.000      -0.655      -0.489\n",
            "PTRATIO       -0.9307      0.118     -7.911      0.000      -1.162      -0.700\n",
            "==============================================================================\n",
            "Omnibus:                      202.072   Durbin-Watson:                   0.901\n",
            "Prob(Omnibus):                  0.000   Jarque-Bera (JB):             1022.153\n",
            "Skew:                           1.700   Prob(JB):                    1.10e-222\n",
            "Kurtosis:                       9.076   Cond. No.                         402.\n",
            "==============================================================================\n",
            "\n",
            "Notes:\n",
            "[1] Standard Errors assume that the covariance matrix of the errors is correctly specified.\n"
          ]
        }
      ]
    },
    {
      "cell_type": "code",
      "source": [
        "# Definir X e y\n",
        "X = df_V1[['RM', 'PTRATIO', 'LSTAT']]\n",
        "y = df_V1[\"PRICE\"]\n",
        "\n",
        "# Dividir el conjunto de datos en conjunto de entrenamiento y prueba\n",
        "X_train, X_test, y_train, y_test = train_test_split(X, y, test_size=0.2, random_state=0)\n",
        "\n",
        "# Entrenar un modelo de regresión lineal\n",
        "model = LinearRegression()\n",
        "model.fit(X_train, y_train)\n",
        "\n",
        "# Predecir los valores de y para el conjunto de prueba\n",
        "y_pred = model.predict(X_test)\n",
        "\n",
        "# Calcular el error absoluto medio\n",
        "mae = mean_absolute_error(y_test, y_pred)\n",
        "\n",
        "# Imprimir el resultado\n",
        "print(\"\\033[43m\\033[30m\\033[1mRespuesta:\\033[0m\")\n",
        "print(\"El error absoluto medio es:\", mae)\n"
      ],
      "metadata": {
        "colab": {
          "base_uri": "https://localhost:8080/"
        },
        "id": "0kNGC7EgWUOZ",
        "outputId": "b1d62280-a23b-49a9-b34c-deeb26a9a769"
      },
      "execution_count": 20,
      "outputs": [
        {
          "output_type": "stream",
          "name": "stdout",
          "text": [
            "\u001b[43m\u001b[30m\u001b[1mRespuesta:\u001b[0m\n",
            "El error absoluto medio es: 4.404434993909257\n"
          ]
        }
      ]
    },
    {
      "cell_type": "code",
      "source": [
        "price_pred4 = E4.predict(pd.DataFrame(df[[\"RM\", \"LSTAT\", \"PTRATIO\"]]))\n",
        "df[\"RSE4\"] = (df[\"PRICE\"] - price_pred4)**2\n",
        "SSD4 = sum(df[\"RSE4\"])\n",
        "RSE4 = np.sqrt(SSD4 / (len(df) - 3 - 1))\n",
        "print(\"\\033[43m\\033[30m\\033[1mECM:\\033[0m\")\n",
        "round(RSE4, 2)\n"
      ],
      "metadata": {
        "colab": {
          "base_uri": "https://localhost:8080/"
        },
        "id": "h3g_dFH4IwzJ",
        "outputId": "494820f8-30cd-4c78-af03-b9122f7559f2"
      },
      "execution_count": 31,
      "outputs": [
        {
          "output_type": "stream",
          "name": "stdout",
          "text": [
            "\u001b[43m\u001b[30m\u001b[1mECM:\u001b[0m\n"
          ]
        },
        {
          "output_type": "execute_result",
          "data": {
            "text/plain": [
              "5.23"
            ]
          },
          "metadata": {},
          "execution_count": 31
        }
      ]
    },
    {
      "cell_type": "markdown",
      "source": [
        "#### Escenario 5: PRICE vs LSTAT"
      ],
      "metadata": {
        "id": "aOZ2-FyqOlFC"
      }
    },
    {
      "cell_type": "code",
      "source": [
        "E5 = smf.ols(formula=\"PRICE~LSTAT\" , data=df).fit()\n",
        "print(\"\\033[43m\\033[30m\\033[1mRespuesta:\\033[0m\")\n",
        "print(E5.summary())"
      ],
      "metadata": {
        "colab": {
          "base_uri": "https://localhost:8080/"
        },
        "id": "w2vZxBBzNkhN",
        "outputId": "f673b65e-c490-464f-8fb9-77c39f7fa159"
      },
      "execution_count": 37,
      "outputs": [
        {
          "output_type": "stream",
          "name": "stdout",
          "text": [
            "\u001b[43m\u001b[30m\u001b[1mRespuesta:\u001b[0m\n",
            "                            OLS Regression Results                            \n",
            "==============================================================================\n",
            "Dep. Variable:                  PRICE   R-squared:                       0.544\n",
            "Model:                            OLS   Adj. R-squared:                  0.543\n",
            "Method:                 Least Squares   F-statistic:                     601.6\n",
            "Date:                Tue, 21 Mar 2023   Prob (F-statistic):           5.08e-88\n",
            "Time:                        22:12:32   Log-Likelihood:                -1641.5\n",
            "No. Observations:                 506   AIC:                             3287.\n",
            "Df Residuals:                     504   BIC:                             3295.\n",
            "Df Model:                           1                                         \n",
            "Covariance Type:            nonrobust                                         \n",
            "==============================================================================\n",
            "                 coef    std err          t      P>|t|      [0.025      0.975]\n",
            "------------------------------------------------------------------------------\n",
            "Intercept     34.5538      0.563     61.415      0.000      33.448      35.659\n",
            "LSTAT         -0.9500      0.039    -24.528      0.000      -1.026      -0.874\n",
            "==============================================================================\n",
            "Omnibus:                      137.043   Durbin-Watson:                   0.892\n",
            "Prob(Omnibus):                  0.000   Jarque-Bera (JB):              291.373\n",
            "Skew:                           1.453   Prob(JB):                     5.36e-64\n",
            "Kurtosis:                       5.319   Cond. No.                         29.7\n",
            "==============================================================================\n",
            "\n",
            "Notes:\n",
            "[1] Standard Errors assume that the covariance matrix of the errors is correctly specified.\n"
          ]
        }
      ]
    },
    {
      "cell_type": "code",
      "source": [
        "price_pred5 = E5.predict(pd.DataFrame(df[[\"LSTAT\"]]))\n",
        "df[\"RSE5\"] = (df[\"PRICE\"] - price_pred5)**2\n",
        "SSD5 = sum(df[\"RSE5\"])\n",
        "RSE5 = np.sqrt(SSD4 / (len(df) - 1 - 1))\n",
        "print(\"\\033[43m\\033[30m\\033[1mECM:\\033[0m\")\n",
        "round(RSE5, 2)\n"
      ],
      "metadata": {
        "colab": {
          "base_uri": "https://localhost:8080/"
        },
        "id": "k8n3ekR0N2QL",
        "outputId": "31ebe995-db8d-426d-d090-7b8793af1923"
      },
      "execution_count": 33,
      "outputs": [
        {
          "output_type": "stream",
          "name": "stdout",
          "text": [
            "\u001b[43m\u001b[30m\u001b[1mECM:\u001b[0m\n"
          ]
        },
        {
          "output_type": "execute_result",
          "data": {
            "text/plain": [
              "5.22"
            ]
          },
          "metadata": {},
          "execution_count": 33
        }
      ]
    },
    {
      "cell_type": "markdown",
      "source": [
        "---\n",
        "# **6. Actividades**\n",
        "\n",
        "---"
      ],
      "metadata": {
        "id": "Wcf6ToULLhVJ"
      }
    },
    {
      "cell_type": "markdown",
      "source": [
        "### 6.1  Punto de control"
      ],
      "metadata": {
        "id": "qkV0Y2VIMCU7"
      }
    },
    {
      "cell_type": "code",
      "source": [
        "# Generar una copia del DataFrame con otro nombre\n",
        "df_V1_copy = df.copy()\n",
        "\n",
        "# Guardar el DataFrame modificado en un archivo CSV con un nuevo nombre y extensión\n",
        "df_V1_copy.to_csv(\"/content/BOSTON_V1.csv\", index=False)\n",
        "\n",
        "# Importar el archivo CSV\n",
        "df_V1 = pd.read_csv(\"/content/BOSTON_V1.csv\")"
      ],
      "metadata": {
        "id": "E1K4onf7MEsF"
      },
      "execution_count": 15,
      "outputs": []
    },
    {
      "cell_type": "markdown",
      "source": [
        "### 6.2  Eliminar variables / columnas"
      ],
      "metadata": {
        "id": "mMx3m7APKEuz"
      }
    },
    {
      "cell_type": "code",
      "source": [
        "# Eliminar varias columnas\n",
        "df_V1.drop(['CRIM', 'NOX', 'AGE'], axis=1, inplace=True)\n",
        "\n",
        "# Guardar el archivo\n",
        "df_V1.to_csv('/content/BOSTON_V1.csv', index=False)\n"
      ],
      "metadata": {
        "id": "fTW5iHqKKHkJ"
      },
      "execution_count": 16,
      "outputs": []
    },
    {
      "cell_type": "markdown",
      "source": [
        "### 6.2  Identifiquen el objetivo (X) y las características (y)"
      ],
      "metadata": {
        "id": "HpAaTwjcSQEf"
      }
    },
    {
      "cell_type": "code",
      "source": [
        "# Agregar los nombres de las columnas\n",
        "df_V1.columns = ['RM', 'PTRATIO', 'LSTAT', 'PRICE']\n",
        "\n",
        "# Convertir los valores de las columnas a numéricos\n",
        "columnas_numericas = ['RM', 'PTRATIO', 'LSTAT', 'PRICE']\n",
        "df[columnas_numericas] = df_V1[columnas_numericas].apply(pd.to_numeric)\n",
        "\n",
        "# Agregar dos decimales a los valores numéricos\n",
        "pd.options.display.float_format = '{:.2f}'.format      \n",
        "\n",
        "# Separar los datos en una matriz de características (X) y un vector objetivo (y)\n",
        "X = df_V1.drop([\"PRICE\"], axis=1)  # Se eliminan las columnas que no son el vector objetivo\n",
        "y = df_V1[\"PRICE\"]\n",
        "\n",
        "# Imprimir la matriz de características (X) en formato de tabla\n",
        "print(\"\\n\\033[43m\\033[30m\\033[1mMatriz de características (X):\\033[0m\")\n",
        "print(X.head().to_string(index=False, header=True))\n",
        "\n",
        "# Imprimir el vector objetivo (y) en formato de tabla\n",
        "print(\"\\n\\033[43m\\033[30m\\033[1mVector objetivo (y):\\033[0m\")\n",
        "print(y.head().to_string(index=False, header=True))\n",
        "\n",
        "# Guardar el archivo\n",
        "df_V1.to_csv('/content/BOSTON_V1.csv', index=False)\n"
      ],
      "metadata": {
        "colab": {
          "base_uri": "https://localhost:8080/"
        },
        "id": "YKZfWqVqQ8Zu",
        "outputId": "1aab1c2b-f429-42a4-aefc-9120b798e56c"
      },
      "execution_count": 17,
      "outputs": [
        {
          "output_type": "stream",
          "name": "stdout",
          "text": [
            "\n",
            "\u001b[43m\u001b[30m\u001b[1mMatriz de características (X):\u001b[0m\n",
            "  RM  PTRATIO  LSTAT\n",
            "6.58    15.30   4.98\n",
            "6.42    17.80   9.14\n",
            "7.18    17.80   4.03\n",
            "7.00    18.70   2.94\n",
            "7.15    18.70   5.33\n",
            "\n",
            "\u001b[43m\u001b[30m\u001b[1mVector objetivo (y):\u001b[0m\n",
            "24.00\n",
            "21.60\n",
            "34.70\n",
            "33.40\n",
            "36.20\n"
          ]
        }
      ]
    },
    {
      "cell_type": "markdown",
      "source": [
        "### 6.3  Crear un train test split en los datos. Utilicen un número aleatorio 42 por coherencia."
      ],
      "metadata": {
        "id": "7cKimQVqSvgJ"
      }
    },
    {
      "cell_type": "code",
      "source": [
        "# Dividir los datos en conjuntos de entrenamiento y prueba\n",
        "X_train, X_test, y_train, y_test = train_test_split(X, y, test_size=0.3, random_state=42)\n",
        "\n",
        "#Imprimir\n",
        "print(\"\\033[43m\\033[30m\\033[1mRespuesta:\\033[0m\")\n",
        "\n",
        "# Imprimir los conjuntos de entrenamiento y prueba en formato de tabla\n",
        "pd.set_option('display.float_format', lambda x: '%.2f' % x)\n",
        "print(\"Conjunto de entrenamiento:\")\n",
        "print(pd.concat([X_train, y_train], axis=1).head().to_string(index=False))\n",
        "\n",
        "print(\"Conjunto de prueba:\")\n",
        "print(pd.concat([X_test, y_test], axis=1).head().to_string(index=False))\n",
        "\n",
        "# Guardar el archivo\n",
        "df_V1.to_csv('/content/BOSTON_V1.csv', index=False)"
      ],
      "metadata": {
        "colab": {
          "base_uri": "https://localhost:8080/"
        },
        "id": "EwPrJQOPSbuj",
        "outputId": "7bb48440-0ae9-4b51-e34c-1cf96303fcad"
      },
      "execution_count": 18,
      "outputs": [
        {
          "output_type": "stream",
          "name": "stdout",
          "text": [
            "\u001b[43m\u001b[30m\u001b[1mRespuesta:\u001b[0m\n",
            "Conjunto de entrenamiento:\n",
            "  RM  PTRATIO  LSTAT  PRICE\n",
            "6.43    18.70   5.21  28.70\n",
            "6.18    17.80  12.04  21.20\n",
            "5.68    17.90  10.21  19.30\n",
            "5.93    21.00   6.58  23.10\n",
            "5.93    20.20  18.13  19.10\n",
            "Conjunto de prueba:\n",
            "  RM  PTRATIO  LSTAT  PRICE\n",
            "6.42    16.60   9.04  23.60\n",
            "6.76    17.60   3.53  32.40\n",
            "5.98    20.10  18.07  13.60\n",
            "6.07    19.20   5.52  22.80\n",
            "6.30    20.20  17.27  16.10\n"
          ]
        }
      ]
    },
    {
      "cell_type": "markdown",
      "source": [
        "### 6.4  Crear conjunto de datos de entrenamiento y prueba"
      ],
      "metadata": {
        "id": "H_OXsfooPIi1"
      }
    },
    {
      "cell_type": "code",
      "source": [
        "# Definir X_train y X_test\n",
        "X = df_V1[['RM', 'PTRATIO', 'LSTAT']]\n",
        "y = df_V1[\"PRICE\"]\n",
        "X_train, X_test, y_train, y_test = train_test_split(X, y, test_size=0.2, random_state=0)\n",
        "\n",
        "# Definir las transformaciones\n",
        "num_transformer = Pipeline(steps=[('scaler', StandardScaler())])\n",
        "\n",
        "# Definir las columnas que serán transformadas\n",
        "num_features = ['RM', 'PTRATIO', 'LSTAT']\n",
        "\n",
        "# Definir el preprocesamiento\n",
        "preprocessor = ColumnTransformer(transformers=[('num', num_transformer, num_features)])\n",
        "\n",
        "# Ajustar el preprocesamiento en el conjunto de entrenamiento\n",
        "preprocessor.fit(X_train)\n",
        "\n",
        "# Transformar los conjuntos de entrenamiento y prueba\n",
        "X_train_transformed = preprocessor.transform(X_train)\n",
        "X_test_transformed = preprocessor.transform(X_test)\n",
        "\n",
        "# Convertir a DataFrames de pandas\n",
        "X_train_transformed = pd.DataFrame(X_train_transformed, columns=num_features)\n",
        "X_test_transformed = pd.DataFrame(X_test_transformed, columns=num_features)\n",
        "\n",
        "# Mostrar los DataFrames resultantes\n",
        "print(\"\\033[43m\\033[30m\\033[1mRespuesta:\\033[0m\")\n",
        "print(\"Conjunto de entrenamiento transformado (forma):\", X_train_transformed.shape)\n",
        "print(X_train_transformed.head())\n",
        "print(\"Conjunto de prueba transformado (forma):\", X_test_transformed.shape)\n",
        "print(X_test_transformed.head())\n"
      ],
      "metadata": {
        "colab": {
          "base_uri": "https://localhost:8080/"
        },
        "id": "pj8Q5JgxSsX-",
        "outputId": "a50ef7ff-fe29-4504-b6cf-f2108adf1df5"
      },
      "execution_count": 19,
      "outputs": [
        {
          "output_type": "stream",
          "name": "stdout",
          "text": [
            "\u001b[43m\u001b[30m\u001b[1mRespuesta:\u001b[0m\n",
            "Conjunto de entrenamiento transformado (forma): (404, 3)\n",
            "     RM  PTRATIO  LSTAT\n",
            "0  0.94    -0.48  -0.41\n",
            "1 -0.49     0.34  -0.39\n",
            "2  0.86    -0.85  -0.18\n",
            "3 -0.42    -1.49  -0.04\n",
            "4 -1.44     0.79   1.91\n",
            "Conjunto de prueba transformado (forma): (102, 3)\n",
            "     RM  PTRATIO  LSTAT\n",
            "0  0.04    -0.71  -0.74\n",
            "1 -0.12     0.79  -0.44\n",
            "2  0.10    -0.94  -0.30\n",
            "3 -1.37     0.79   0.97\n",
            "4 -0.10     0.11  -0.05\n"
          ]
        }
      ]
    },
    {
      "cell_type": "code",
      "source": [
        "from sklearn.metrics import mean_squared_error\n",
        "\n",
        "# Entrenar el modelo\n",
        "model.fit(X_train_transformed, y_train)\n",
        "\n",
        "# Predecir los valores del conjunto de entrenamiento y prueba\n",
        "y_train_pred = model.predict(X_train_transformed)\n",
        "y_test_pred = model.predict(X_test_transformed)\n",
        "\n",
        "# Calcular el RECM en los conjuntos de entrenamiento y prueba\n",
        "rmse_train = mean_squared_error(y_train, y_train_pred, squared=False)\n",
        "rmse_test = mean_squared_error(y_test, y_test_pred, squared=False)\n",
        "\n",
        "# Mostrar los resultados con 2 decimales\n",
        "print(\"\\033[43m\\033[30m\\033[1mRespuesta:\\033[0m\")\n",
        "print(\"RECM en el conjunto de entrenamiento: {:.2f}\".format(rmse_train))\n",
        "print(\"RECM en el conjunto de prueba: {:.2f}\".format(rmse_test))\n"
      ],
      "metadata": {
        "colab": {
          "base_uri": "https://localhost:8080/"
        },
        "id": "FRYEYJnjPkh0",
        "outputId": "6fbff537-0779-45b0-a769-e1844e4d23aa"
      },
      "execution_count": 41,
      "outputs": [
        {
          "output_type": "stream",
          "name": "stdout",
          "text": [
            "\u001b[43m\u001b[30m\u001b[1mRespuesta:\u001b[0m\n",
            "RECM en el conjunto de entrenamiento: 4.87\n",
            "RECM en el conjunto de prueba: 6.46\n"
          ]
        }
      ]
    }
  ]
}